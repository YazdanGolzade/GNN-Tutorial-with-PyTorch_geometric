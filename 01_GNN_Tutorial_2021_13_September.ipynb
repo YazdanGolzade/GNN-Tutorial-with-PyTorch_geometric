{
  "nbformat": 4,
  "nbformat_minor": 0,
  "metadata": {
    "colab": {
      "name": "01 GNN Tutorial 2021 13 September.ipynb",
      "provenance": [],
      "collapsed_sections": [],
      "authorship_tag": "ABX9TyPeg6IwhlALEbq5l5OgSxYW",
      "include_colab_link": true
    },
    "kernelspec": {
      "name": "python3",
      "display_name": "Python 3"
    },
    "language_info": {
      "name": "python"
    }
  },
  "cells": [
    {
      "cell_type": "markdown",
      "metadata": {
        "id": "view-in-github",
        "colab_type": "text"
      },
      "source": [
        "<a href=\"https://colab.research.google.com/github/YazdanGolzade/GNN-Tutorial-with-PyTorch_geometric/blob/main/01_GNN_Tutorial_2021_13_September.ipynb\" target=\"_parent\"><img src=\"https://colab.research.google.com/assets/colab-badge.svg\" alt=\"Open In Colab\"/></a>"
      ]
    },
    {
      "cell_type": "markdown",
      "metadata": {
        "id": "WGg7VLbKSTMM"
      },
      "source": [
        "**INTRODUCTION BY EXAMPLE**\n",
        "\n",
        "We shortly introduce the fundamental concepts of PyG through self-contained examples. \n",
        "\n",
        "At its core, PyG provides the following main features:\n",
        "\n",
        "--Data Handling of Graphs\n",
        "\n",
        "--Common Benchmark Datasets\n",
        "\n",
        "--Mini-batches\n",
        "\n",
        "--Data Transforms\n",
        "\n",
        "--Learning Methods on Graphs(**GCN**)"
      ]
    },
    {
      "cell_type": "markdown",
      "metadata": {
        "id": "Pee7VQOuipy6"
      },
      "source": [
        "**Install the relevant packages:**"
      ]
    },
    {
      "cell_type": "code",
      "metadata": {
        "id": "Gtb5wojfis5b"
      },
      "source": [
        "!pip install torch-scatter\n",
        "!pip install torch-sparse\n",
        "!pip install torch-geometric"
      ],
      "execution_count": null,
      "outputs": []
    },
    {
      "cell_type": "markdown",
      "metadata": {
        "id": "-ZWuSrcEhiXc"
      },
      "source": [
        "**Data Handling of Graphs**\n",
        "\n",
        "We show a simple example of an unweighted and undirected graph with three nodes and four edges. Each node contains exactly one feature:"
      ]
    },
    {
      "cell_type": "code",
      "metadata": {
        "id": "gRs-70ACmjlo"
      },
      "source": [
        "import torch\n",
        "from torch_geometric.data import Data\n",
        "import matplotlib.pyplot as plt\n",
        "import networkx as nx"
      ],
      "execution_count": 2,
      "outputs": []
    },
    {
      "cell_type": "code",
      "metadata": {
        "id": "76EGNVzVhdqq"
      },
      "source": [
        "edge_index = torch.tensor([[0, 1, 1, 2],\n",
        "                           [1, 0, 2, 1]], dtype=torch.long)\n",
        "x = torch.tensor([[-1], [0], [1]], dtype=torch.float)\n",
        "\n",
        "data = Data(x=x, edge_index=edge_index)"
      ],
      "execution_count": 3,
      "outputs": []
    },
    {
      "cell_type": "code",
      "metadata": {
        "id": "0Q7CslxlwPff"
      },
      "source": [
        "#Visualize of graph\n",
        "import networkx as nx\n",
        "from torch_geometric.utils.convert import to_networkx\n",
        "import pylab as plb\n",
        "import matplotlib.pyplot as plt"
      ],
      "execution_count": 4,
      "outputs": []
    },
    {
      "cell_type": "code",
      "metadata": {
        "colab": {
          "base_uri": "https://localhost:8080/",
          "height": 319
        },
        "id": "jPZ-JbI_wfmW",
        "outputId": "01d2185f-8b77-49f5-fa86-6d083e930ab7"
      },
      "source": [
        "nx_graph = to_networkx(data)\n",
        "nx.draw(nx_graph, with_labels = True)\n",
        "plb.savefig('labels.png')"
      ],
      "execution_count": 5,
      "outputs": [
        {
          "output_type": "display_data",
          "data": {
            "image/png": "[encoded data removed]",
            "text/plain": [
              "<Figure size 432x288 with 1 Axes>"
            ]
          },
          "metadata": {}
        }
      ]
    },
    {
      "cell_type": "code",
      "metadata": {
        "colab": {
          "base_uri": "https://localhost:8080/",
          "height": 319
        },
        "id": "eLnBFjbpw3mU",
        "outputId": "fac013bf-70af-4657-8a93-d7cfd5d76191"
      },
      "source": [
        "#convert directed graph to undirected\n",
        "\n",
        "nx_undirected_graph = nx_graph.to_undirected()\n",
        "\n",
        "nx.draw(nx_undirected_graph, with_labels = True)\n",
        "plt.savefig('labels.png')"
      ],
      "execution_count": 6,
      "outputs": [
        {
          "output_type": "display_data",
          "data": {
            "image/png": "[encoded data removed]",
            "text/plain": [
              "<Figure size 432x288 with 1 Axes>"
            ]
          },
          "metadata": {}
        }
      ]
    },
    {
      "cell_type": "code",
      "metadata": {
        "colab": {
          "base_uri": "https://localhost:8080/"
        },
        "id": "2bKQCqtfkfN2",
        "outputId": "4b23fc2b-c612-48d0-dc3f-4991bc786583"
      },
      "source": [
        "print(data.keys)"
      ],
      "execution_count": 7,
      "outputs": [
        {
          "output_type": "stream",
          "name": "stdout",
          "text": [
            "['x', 'edge_index']\n"
          ]
        }
      ]
    },
    {
      "cell_type": "code",
      "metadata": {
        "colab": {
          "base_uri": "https://localhost:8080/"
        },
        "id": "XgbGiQ5Ekmh9",
        "outputId": "2b29beac-6aa8-4a02-97cc-3df08cdcfe2e"
      },
      "source": [
        "print(data['x'])"
      ],
      "execution_count": 8,
      "outputs": [
        {
          "output_type": "stream",
          "name": "stdout",
          "text": [
            "tensor([[-1.],\n",
            "        [ 0.],\n",
            "        [ 1.]])\n"
          ]
        }
      ]
    },
    {
      "cell_type": "code",
      "metadata": {
        "colab": {
          "base_uri": "https://localhost:8080/"
        },
        "id": "psTnKCeDkq-6",
        "outputId": "0f633ebf-8c43-4642-8fa4-e1138d3b0fb0"
      },
      "source": [
        "for key, item in data:\n",
        "    print(\"{} found in data\".format(key))"
      ],
      "execution_count": 9,
      "outputs": [
        {
          "output_type": "stream",
          "name": "stdout",
          "text": [
            "x found in data\n",
            "edge_index found in data\n"
          ]
        }
      ]
    },
    {
      "cell_type": "code",
      "metadata": {
        "colab": {
          "base_uri": "https://localhost:8080/"
        },
        "id": "DXUZnKMVkvWW",
        "outputId": "512817a3-02ab-4cd9-f228-8c4fa45c1591"
      },
      "source": [
        "'edge_attr' in data"
      ],
      "execution_count": 10,
      "outputs": [
        {
          "output_type": "execute_result",
          "data": {
            "text/plain": [
              "False"
            ]
          },
          "metadata": {},
          "execution_count": 10
        }
      ]
    },
    {
      "cell_type": "code",
      "metadata": {
        "colab": {
          "base_uri": "https://localhost:8080/"
        },
        "id": "8iBf2sJVkzah",
        "outputId": "2e88f465-b054-4349-f549-be783c69e6e3"
      },
      "source": [
        "data.num_nodes"
      ],
      "execution_count": 11,
      "outputs": [
        {
          "output_type": "execute_result",
          "data": {
            "text/plain": [
              "3"
            ]
          },
          "metadata": {},
          "execution_count": 11
        }
      ]
    },
    {
      "cell_type": "code",
      "metadata": {
        "colab": {
          "base_uri": "https://localhost:8080/"
        },
        "id": "reL5_458k4lD",
        "outputId": "b02c2532-4655-4392-84e7-1f01e2a4288f"
      },
      "source": [
        "data.num_edges"
      ],
      "execution_count": 12,
      "outputs": [
        {
          "output_type": "execute_result",
          "data": {
            "text/plain": [
              "4"
            ]
          },
          "metadata": {},
          "execution_count": 12
        }
      ]
    },
    {
      "cell_type": "code",
      "metadata": {
        "colab": {
          "base_uri": "https://localhost:8080/"
        },
        "id": "D7RY6Z-8k9X9",
        "outputId": "efc7fcde-b1c0-45d0-9521-44062eb38ace"
      },
      "source": [
        "data.num_node_features"
      ],
      "execution_count": 13,
      "outputs": [
        {
          "output_type": "execute_result",
          "data": {
            "text/plain": [
              "1"
            ]
          },
          "metadata": {},
          "execution_count": 13
        }
      ]
    },
    {
      "cell_type": "code",
      "metadata": {
        "id": "Q2ARuMTqlCTQ"
      },
      "source": [
        "#data.has_isolated_nodes()"
      ],
      "execution_count": 14,
      "outputs": []
    },
    {
      "cell_type": "code",
      "metadata": {
        "id": "ItWsyS1TlHSK"
      },
      "source": [
        "#data.has_self_loops()"
      ],
      "execution_count": null,
      "outputs": []
    },
    {
      "cell_type": "code",
      "metadata": {
        "id": "h2Y_1XnJlK-B"
      },
      "source": [
        "#data.is_directed()"
      ],
      "execution_count": null,
      "outputs": []
    },
    {
      "cell_type": "markdown",
      "metadata": {
        "id": "DmfpTrOAlyAh"
      },
      "source": [
        "**Common Benchmark Datasets**\n",
        "\n",
        "Initializing a dataset is straightforward. \n",
        "\n",
        "An initialization of a dataset will automatically download its raw files and process them to the previously described Data format. E.g., to load the ENZYMES dataset (consisting of 600 graphs within 6 classes), type:"
      ]
    },
    {
      "cell_type": "code",
      "metadata": {
        "id": "1vzswtWoqDhX"
      },
      "source": [
        "from torch_geometric.datasets import TUDataset\n",
        "\n",
        "ENZYMES = TUDataset(root='/tmp/ENZYMES', name='ENZYMES',use_node_attr=True)"
      ],
      "execution_count": 17,
      "outputs": []
    },
    {
      "cell_type": "code",
      "metadata": {
        "colab": {
          "base_uri": "https://localhost:8080/"
        },
        "id": "c4drqEdBqPEJ",
        "outputId": "c01d40b0-bfdf-4eb2-9c74-2042b0fe80e7"
      },
      "source": [
        "len(ENZYMES)"
      ],
      "execution_count": 18,
      "outputs": [
        {
          "output_type": "execute_result",
          "data": {
            "text/plain": [
              "600"
            ]
          },
          "metadata": {},
          "execution_count": 18
        }
      ]
    },
    {
      "cell_type": "code",
      "metadata": {
        "colab": {
          "base_uri": "https://localhost:8080/"
        },
        "id": "LnZSbtpBqTXu",
        "outputId": "6cbb8716-bc1f-457b-9c7f-f3c1bec9e8b4"
      },
      "source": [
        "ENZYMES.num_classes"
      ],
      "execution_count": 19,
      "outputs": [
        {
          "output_type": "execute_result",
          "data": {
            "text/plain": [
              "6"
            ]
          },
          "metadata": {},
          "execution_count": 19
        }
      ]
    },
    {
      "cell_type": "code",
      "metadata": {
        "colab": {
          "base_uri": "https://localhost:8080/"
        },
        "id": "Y2wuGFAmqb93",
        "outputId": "5a402547-4056-43c9-a821-6a080900dee9"
      },
      "source": [
        "ENZYMES.num_node_features"
      ],
      "execution_count": 20,
      "outputs": [
        {
          "output_type": "execute_result",
          "data": {
            "text/plain": [
              "21"
            ]
          },
          "metadata": {},
          "execution_count": 20
        }
      ]
    },
    {
      "cell_type": "markdown",
      "metadata": {
        "id": "-vM5Lraaqh6H"
      },
      "source": [
        "We now have access to all 600 graphs in the dataset:"
      ]
    },
    {
      "cell_type": "code",
      "metadata": {
        "id": "qfzV4Dhhqi_V"
      },
      "source": [
        "ENZYMES_0 = ENZYMES[0]"
      ],
      "execution_count": 21,
      "outputs": []
    },
    {
      "cell_type": "code",
      "metadata": {
        "colab": {
          "base_uri": "https://localhost:8080/"
        },
        "id": "iqKcX9uHqqZo",
        "outputId": "a236d1ec-b1f5-40dc-c6f6-e3d45dd602c2"
      },
      "source": [
        "ENZYMES_0 .is_undirected()"
      ],
      "execution_count": 22,
      "outputs": [
        {
          "output_type": "execute_result",
          "data": {
            "text/plain": [
              "True"
            ]
          },
          "metadata": {},
          "execution_count": 22
        }
      ]
    },
    {
      "cell_type": "code",
      "metadata": {
        "colab": {
          "base_uri": "https://localhost:8080/",
          "height": 319
        },
        "id": "Bx4_OJrhxMlU",
        "outputId": "3641153a-cc36-4061-857a-e22aa2fd931a"
      },
      "source": [
        "nx_graph = to_networkx(ENZYMES_0 )\n",
        "nx.draw(nx_graph, with_labels = True)\n",
        "plb.savefig('labels.png')"
      ],
      "execution_count": 23,
      "outputs": [
        {
          "output_type": "display_data",
          "data": {
            "image/png": "[encoded data removed]",
            "text/plain": [
              "<Figure size 432x288 with 1 Axes>"
            ]
          },
          "metadata": {}
        }
      ]
    },
    {
      "cell_type": "markdown",
      "metadata": {
        "id": "9rTtwJBTq7EH"
      },
      "source": [
        "We can see that the first graph in the dataset contains 37 nodes, each one having 3 features. There are 168/2 = 84 undirected edges and the graph is assigned to exactly one class. In addition, the data object is holding exactly one graph-level target."
      ]
    },
    {
      "cell_type": "markdown",
      "metadata": {
        "id": "ljVr86ZGrHK7"
      },
      "source": [
        "**train/test split**\n",
        "\n",
        "We can even use slices, long or bool tensors to split the dataset. E.g., to create a 90/10 train/test split, type:"
      ]
    },
    {
      "cell_type": "code",
      "metadata": {
        "id": "0itaRPCMq8XO"
      },
      "source": [
        "train_ENZYMES = ENZYMES[:540]\n",
        "test_ENZYMES = ENZYMES[540:]"
      ],
      "execution_count": 24,
      "outputs": []
    },
    {
      "cell_type": "markdown",
      "metadata": {
        "id": "YwezHZlLriLX"
      },
      "source": [
        "If you are unsure whether the dataset is already shuffled before you split, you can randomly permutate it by running:"
      ]
    },
    {
      "cell_type": "code",
      "metadata": {
        "id": "lQLAg0IGrkLW"
      },
      "source": [
        "ENZYMES = ENZYMES.shuffle()"
      ],
      "execution_count": null,
      "outputs": []
    },
    {
      "cell_type": "markdown",
      "metadata": {
        "id": "8WO1YOEisS3d"
      },
      "source": [
        "**Mini-batches**\n",
        "\n",
        "Neural networks are usually trained in a batch-wise fashion. PyG achieves parallelization over a mini-batch by creating sparse block diagonal adjacency matrices (defined by edge_index) and concatenating feature and target matrices in the node dimension. This composition allows differing number of nodes and edges over examples in one batch:\n",
        "\n",
        "PyG contains its own torch_geometric.loader.DataLoader, which already takes care of this concatenation process.\n",
        "\n",
        " Let’s learn about it in an example:"
      ]
    },
    {
      "cell_type": "code",
      "metadata": {
        "id": "uap4vk7d2wHY"
      },
      "source": [
        "from torch_scatter import scatter_mean\n",
        "from torch_geometric.datasets import TUDataset\n",
        "from torch_geometric.loader import DataLoader\n",
        "from torch_geometric.datasets import Planetoid"
      ],
      "execution_count": 25,
      "outputs": []
    },
    {
      "cell_type": "code",
      "metadata": {
        "id": "2Ybm-NaF4kRS"
      },
      "source": [
        "ENZYMES = TUDataset(root='/tmp/ENZYMES', name='ENZYMES', use_node_attr=True)\n",
        "ENZYMES_loader = DataLoader(ENZYMES, batch_size=32, shuffle=True)\n"
      ],
      "execution_count": 26,
      "outputs": []
    },
    {
      "cell_type": "code",
      "metadata": {
        "colab": {
          "base_uri": "https://localhost:8080/"
        },
        "id": "XQayTJtistv0",
        "outputId": "22a17eb2-4ca1-4c49-b2ff-8e96e1bb5d7f"
      },
      "source": [
        "for batch_ENZYMES in ENZYMES_loader:\n",
        " batch_ENZYMES\n",
        "    \n",
        "batch_ENZYMES.num_graphs"
      ],
      "execution_count": 28,
      "outputs": [
        {
          "output_type": "execute_result",
          "data": {
            "text/plain": [
              "24"
            ]
          },
          "metadata": {},
          "execution_count": 28
        }
      ]
    },
    {
      "cell_type": "markdown",
      "metadata": {
        "id": "CaXY-KWh2lkh"
      },
      "source": [
        "**Data Transforms**\n",
        "\n",
        "Transforms are a common way in torchvision to transform images and perform augmentation.\n",
        "\n",
        " PyG comes with its own transforms, which expect a Data object as input and return a new transformed Data object. \n",
        " \n",
        " Transforms can be chained together using torch_geometric.transforms.Compose and are applied before saving a processed dataset on disk (pre_transform) or before accessing a graph in a dataset (transform).\n",
        "\n",
        "Let’s look at an example, where we apply **transforms** on the **ShapeNet dataset** (containing 17,000 3D shape point clouds and per point labels from 16 shape categories)."
      ]
    },
    {
      "cell_type": "code",
      "metadata": {
        "colab": {
          "base_uri": "https://localhost:8080/"
        },
        "id": "AIfHJceO2tV4",
        "outputId": "33cd6ec1-d61a-4f9d-cd88-ace65a087f4a"
      },
      "source": [
        "from torch_geometric.datasets import ShapeNet\n",
        "\n",
        "Airplane = ShapeNet(root='/tmp/ShapeNet', categories=['Airplane'])\n",
        "\n",
        "Airplane[0]"
      ],
      "execution_count": 29,
      "outputs": [
        {
          "output_type": "stream",
          "name": "stderr",
          "text": [
            "Processing...\n",
            "Done!\n"
          ]
        },
        {
          "output_type": "execute_result",
          "data": {
            "text/plain": [
              "Data(x=[2518, 3], y=[2518], pos=[2518, 3], category=[1])"
            ]
          },
          "metadata": {},
          "execution_count": 29
        }
      ]
    },
    {
      "cell_type": "markdown",
      "metadata": {
        "id": "lgrUc2Dv23ax"
      },
      "source": [
        "We can **convert** the point cloud dataset into a **graph dataset** by generating nearest neighbor graphs from the point clouds via transforms:"
      ]
    },
    {
      "cell_type": "code",
      "metadata": {
        "colab": {
          "base_uri": "https://localhost:8080/"
        },
        "id": "duxImQaK2-sf",
        "outputId": "6c9f1e74-207b-4fb5-f012-2cd9cd65670a"
      },
      "source": [
        "import torch_geometric.transforms as T\n",
        "from torch_geometric.datasets import ShapeNet\n",
        "\n",
        "Airplane = ShapeNet(root='/tmp/ShapeNet', categories=['Airplane'],\n",
        "                    pre_transform=T.KNNGraph(k=6))\n",
        "\n",
        "Airplane[0]"
      ],
      "execution_count": 31,
      "outputs": [
        {
          "output_type": "stream",
          "name": "stderr",
          "text": [
            "/usr/local/lib/python3.7/dist-packages/torch_geometric/data/dataset.py:152: UserWarning: The `pre_transform` argument differs from the one used in the pre-processed version of this dataset. If you want to make use of another pre-processing technique, make sure to sure to delete '/tmp/ShapeNet/processed' first\n",
            "  f\"The `pre_transform` argument differs from the one used in \"\n"
          ]
        },
        {
          "output_type": "execute_result",
          "data": {
            "text/plain": [
              "Data(x=[2518, 3], y=[2518], pos=[2518, 3], category=[1])"
            ]
          },
          "metadata": {},
          "execution_count": 31
        }
      ]
    },
    {
      "cell_type": "markdown",
      "metadata": {
        "id": "Gna2uW4U3lHl"
      },
      "source": [
        "**Learning Methods on Graphs: implement our first graph neural network!**\n",
        "\n",
        "After learning about data handling, datasets, loader and transforms in PyG, it’s time to implement our first graph neural network!\n",
        "\n",
        "We will use a simple GCN layer and replicate the experiments on the Cora citation dataset.\n",
        "\n",
        " For a high-level explanation on **GCN**, have a look at its blog post.\n",
        "\n",
        "We first need to load the **Cora dataset**:"
      ]
    },
    {
      "cell_type": "code",
      "metadata": {
        "id": "zLEB9oX83x7X"
      },
      "source": [
        "from torch_geometric.datasets import Planetoid\n",
        "\n",
        "Cora = Planetoid(root='/tmp/Cora', name='Cora')"
      ],
      "execution_count": 33,
      "outputs": []
    },
    {
      "cell_type": "markdown",
      "metadata": {
        "id": "Z9HlQTXz9hxF"
      },
      "source": [
        "The Cora dataset consists of 2708 scientific publications classified into one of seven classes. The citation network consists of 5429 links. Each publication in the dataset is described by a 0/1-valued word vector indicating the absence/presence of the corresponding word from the dictionary. The dictionary consists of 1433 unique words."
      ]
    },
    {
      "cell_type": "code",
      "metadata": {
        "colab": {
          "base_uri": "https://localhost:8080/"
        },
        "id": "jrLdUHbE-aID",
        "outputId": "5e0a7244-a4b8-479a-dbc7-a8bfc7d349b6"
      },
      "source": [
        "Cora.num_node_features"
      ],
      "execution_count": 34,
      "outputs": [
        {
          "output_type": "execute_result",
          "data": {
            "text/plain": [
              "1433"
            ]
          },
          "metadata": {},
          "execution_count": 34
        }
      ]
    },
    {
      "cell_type": "code",
      "metadata": {
        "colab": {
          "base_uri": "https://localhost:8080/"
        },
        "id": "J_gC1A2X-tnK",
        "outputId": "0abdc3e7-ba69-4a66-becb-39f41b4c35e3"
      },
      "source": [
        " Cora.num_classes"
      ],
      "execution_count": 35,
      "outputs": [
        {
          "output_type": "execute_result",
          "data": {
            "text/plain": [
              "7"
            ]
          },
          "metadata": {},
          "execution_count": 35
        }
      ]
    },
    {
      "cell_type": "markdown",
      "metadata": {
        "id": "aObKJMWV34PC"
      },
      "source": [
        "Note that we do not need to use transforms or a dataloader. Now let’s implement a two-layer GCN:"
      ]
    },
    {
      "cell_type": "code",
      "metadata": {
        "id": "GE-RIbO23-Bj"
      },
      "source": [
        "import torch\n",
        "import torch.nn.functional as F\n",
        "from torch_geometric.nn import GCNConv\n",
        "\n",
        "class GCN(torch.nn.Module):\n",
        "    def __init__(self):\n",
        "        super().__init__()\n",
        "        self.conv1 = GCNConv( Cora.num_node_features, 16)\n",
        "        self.conv2 = GCNConv(16,  Cora.num_classes)\n",
        "\n",
        "    def forward(self, data):\n",
        "        x, edge_index = data.x, data.edge_index\n",
        "\n",
        "        x = self.conv1(x, edge_index)\n",
        "        x = F.relu(x)\n",
        "        x = F.dropout(x, training=self.training)\n",
        "        x = self.conv2(x, edge_index)\n",
        "\n",
        "        return F.log_softmax(x, dim=1)"
      ],
      "execution_count": 36,
      "outputs": []
    },
    {
      "cell_type": "markdown",
      "metadata": {
        "id": "wNyZnB364DlK"
      },
      "source": [
        "The constructor defines two GCNConv layers which get called in the forward pass of our network. Note that the non-linearity is not integrated in the conv calls and hence needs to be applied afterwards (something which is consistent accross all operators in PyG). Here, we chose to use ReLU as our intermediate non-linearity and finally output a softmax distribution over the number of classes. Let’s train this model on the training nodes for 200 epochs:"
      ]
    },
    {
      "cell_type": "code",
      "metadata": {
        "id": "3IQtP9ci4MRr"
      },
      "source": [
        "device = torch.device('cuda' if torch.cuda.is_available() else 'cpu')\n",
        "model = GCN().to(device)\n",
        "data =  Cora[0].to(device)\n",
        "optimizer = torch.optim.Adam(model.parameters(), lr=0.01, weight_decay=5e-4)\n",
        "\n",
        "model.train()\n",
        "for epoch in range(200):\n",
        "    optimizer.zero_grad()\n",
        "    out = model(data)\n",
        "    loss = F.nll_loss(out[data.train_mask], data.y[data.train_mask])\n",
        "    loss.backward()\n",
        "    optimizer.step()"
      ],
      "execution_count": 38,
      "outputs": []
    },
    {
      "cell_type": "markdown",
      "metadata": {
        "id": "FB2zmNlS4RH5"
      },
      "source": [
        "Finally, we can evaluate our model on the test nodes:"
      ]
    },
    {
      "cell_type": "code",
      "metadata": {
        "colab": {
          "base_uri": "https://localhost:8080/"
        },
        "id": "QfUoJ_Xk4UJ2",
        "outputId": "52a46928-bf50-4e70-da01-5c61705118dd"
      },
      "source": [
        "model.eval()\n",
        "pred = model(data).argmax(dim=1)\n",
        "correct = (pred[data.test_mask] == data.y[data.test_mask]).sum()\n",
        "acc = int(correct) / int(data.test_mask.sum())\n",
        "print('Accuracy: {:.4f}'.format(acc))"
      ],
      "execution_count": 39,
      "outputs": [
        {
          "output_type": "stream",
          "name": "stdout",
          "text": [
            "Accuracy: 0.8050\n"
          ]
        }
      ]
    },
    {
      "cell_type": "markdown",
      "metadata": {
        "id": "t15jnrbe4Xw9"
      },
      "source": [
        "This is all it takes to implement your first graph neural network. The easiest way to learn more about Graph Neural Networks is to study the examples in the examples/ directory and to browse torch_geometric.nn. Happy hacking!"
      ]
    }
  ]
}